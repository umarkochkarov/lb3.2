{
 "cells": [
  {
   "cell_type": "code",
   "execution_count": 1,
   "id": "4c0283c1",
   "metadata": {},
   "outputs": [
    {
     "name": "stdout",
     "output_type": "stream",
     "text": [
      "Матрица 8 на 8:\n",
      "[1, -4, -3, 4, 0, -9, -10, -6]\n",
      "[-4, -10, -5, 6, -8, 7, -4, 8]\n",
      "[7, -2, -10, 7, 3, 10, 6, -1]\n",
      "[-1, 0, -5, 5, 0, 10, 9, -10]\n",
      "[9, 1, -6, 1, 4, 6, 1, 9]\n",
      "[0, -2, 2, 7, 4, 6, -9, -5]\n",
      "[-4, 8, -7, 1, -9, -10, 2, 8]\n",
      "[10, -9, -7, 1, -6, -1, -1, 9]\n",
      "Строки и столбцы совпадают в строках 0\n",
      "Сумма элементов в строках с отрицательными элементами: 4\n"
     ]
    }
   ],
   "source": [
    "import random\n",
    "\n",
    "matrix = [[random.randint(-10, 10) for j in range(8)] for i in range(8)]\n",
    "\n",
    "print(\"Матрица 8 на 8:\")\n",
    "for row in matrix:\n",
    "    print(row)\n",
    "\n",
    "matching_indexes = [i for i in range(8) if matrix[i][i] == matrix[0][i]]\n",
    "\n",
    "if len(matching_indexes) > 0:\n",
    "    print(f\"Строки и столбцы совпадают в строках {', '.join(str(i) for i in matching_indexes)}\")\n",
    "else:\n",
    "    print(\"Совпадений строк и столбцов не найдено.\")\n",
    "\n",
    "negative_rows_sum = 0\n",
    "\n",
    "for row in matrix:\n",
    "    if any(i < 0 for i in row):\n",
    "        negative_rows_sum += sum(row)\n",
    "\n",
    "print(f\"Сумма элементов в строках с отрицательными элементами: {negative_rows_sum}\")"
   ]
  },
  {
   "cell_type": "code",
   "execution_count": null,
   "id": "e514fe3c",
   "metadata": {},
   "outputs": [],
   "source": []
  }
 ],
 "metadata": {
  "kernelspec": {
   "display_name": "Python 3",
   "language": "python",
   "name": "python3"
  },
  "language_info": {
   "codemirror_mode": {
    "name": "ipython",
    "version": 3
   },
   "file_extension": ".py",
   "mimetype": "text/x-python",
   "name": "python",
   "nbconvert_exporter": "python",
   "pygments_lexer": "ipython3",
   "version": "3.8.8"
  }
 },
 "nbformat": 4,
 "nbformat_minor": 5
}
