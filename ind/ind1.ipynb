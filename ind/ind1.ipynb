{
 "cells": [
  {
   "cell_type": "markdown",
   "id": "f8f0f85a",
   "metadata": {},
   "source": [
    "Коэффициенты системы линейных уравнений заданы в виде прямоугольной матрицы. С\n",
    "помощью допустимых преобразований привести систему к треугольному виду. Найти\n",
    "количество строк, среднее арифметическое элементов которых меньше заданной\n",
    "величины."
   ]
  },
  {
   "cell_type": "code",
   "execution_count": 1,
   "id": "2e7c505d",
   "metadata": {},
   "outputs": [],
   "source": [
    "import numpy as np"
   ]
  },
  {
   "cell_type": "code",
   "execution_count": 2,
   "id": "696c6900",
   "metadata": {},
   "outputs": [],
   "source": [
    "A = np.array([[2, 1, 3],\n",
    "              [4, 5, 6],\n",
    "              [7, 8, 9]])\n",
    "b = np.array([1, 2, 3])"
   ]
  },
  {
   "cell_type": "code",
   "execution_count": 3,
   "id": "26c713cd",
   "metadata": {},
   "outputs": [],
   "source": [
    "for i in range(A.shape[0]):\n",
    "    for j in range(i+1, A.shape[0]):\n",
    "        coef = A[j,i] / A[i,i]\n",
    "        A[j] = A[j] - coef * A[i]\n",
    "        b[j] = b[j] - coef * b[i]"
   ]
  },
  {
   "cell_type": "code",
   "execution_count": 4,
   "id": "86b4d90b",
   "metadata": {},
   "outputs": [],
   "source": [
    "threshold = 5\n",
    "count = 0\n",
    "mean_sum = 0\n",
    "for i in range(A.shape[0]):\n",
    "    mean = np.mean(A[i])\n",
    "    mean_sum += mean\n",
    "    if mean < threshold:\n",
    "        count += 1"
   ]
  },
  {
   "cell_type": "code",
   "execution_count": 5,
   "id": "adb36d77",
   "metadata": {},
   "outputs": [
    {
     "name": "stdout",
     "output_type": "stream",
     "text": [
      "Number of rows: 3\n",
      "Average of means: 0.8888888888888888\n"
     ]
    }
   ],
   "source": [
    "print('Number of rows:', count)\n",
    "print('Average of means:', mean_sum / A.shape[0])"
   ]
  },
  {
   "cell_type": "code",
   "execution_count": null,
   "id": "50fcac31",
   "metadata": {},
   "outputs": [],
   "source": []
  }
 ],
 "metadata": {
  "kernelspec": {
   "display_name": "Python 3 (ipykernel)",
   "language": "python",
   "name": "python3"
  },
  "language_info": {
   "codemirror_mode": {
    "name": "ipython",
    "version": 3
   },
   "file_extension": ".py",
   "mimetype": "text/x-python",
   "name": "python",
   "nbconvert_exporter": "python",
   "pygments_lexer": "ipython3",
   "version": "3.9.13"
  }
 },
 "nbformat": 4,
 "nbformat_minor": 5
}
