{
 "cells": [
  {
   "cell_type": "code",
   "execution_count": 1,
   "id": "905f16d5",
   "metadata": {},
   "outputs": [],
   "source": [
    "import math"
   ]
  },
  {
   "cell_type": "code",
   "execution_count": 3,
   "id": "ee1e5b48",
   "metadata": {},
   "outputs": [],
   "source": [
    "m=1\n",
    "l=1\n",
    "x=30 \n",
    "g = 9.81"
   ]
  },
  {
   "cell_type": "code",
   "execution_count": 5,
   "id": "c8a87b91",
   "metadata": {},
   "outputs": [],
   "source": [
    "x = math.radians(x)"
   ]
  },
  {
   "cell_type": "code",
   "execution_count": 6,
   "id": "1a76c7b0",
   "metadata": {},
   "outputs": [],
   "source": [
    "T = 2*math.pi*math.sqrt(l/g)"
   ]
  },
  {
   "cell_type": "code",
   "execution_count": 7,
   "id": "db3823c3",
   "metadata": {},
   "outputs": [
    {
     "name": "stdout",
     "output_type": "stream",
     "text": [
      "Период колебаний маятника: 2.01 секунд\n"
     ]
    }
   ],
   "source": [
    "print(\"Период колебаний маятника: {:.2f} секунд\".format(T))"
   ]
  },
  {
   "cell_type": "code",
   "execution_count": null,
   "id": "26be2136",
   "metadata": {},
   "outputs": [],
   "source": []
  }
 ],
 "metadata": {
  "kernelspec": {
   "display_name": "Python 3",
   "language": "python",
   "name": "python3"
  },
  "language_info": {
   "codemirror_mode": {
    "name": "ipython",
    "version": 3
   },
   "file_extension": ".py",
   "mimetype": "text/x-python",
   "name": "python",
   "nbconvert_exporter": "python",
   "pygments_lexer": "ipython3",
   "version": "3.8.8"
  }
 },
 "nbformat": 4,
 "nbformat_minor": 5
}
